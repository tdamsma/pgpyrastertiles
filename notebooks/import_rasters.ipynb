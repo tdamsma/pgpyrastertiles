{
 "cells": [
  {
   "cell_type": "code",
   "execution_count": 1,
   "metadata": {
    "collapsed": false
   },
   "outputs": [],
   "source": [
    "from pathlib import Path\n",
    "from sqlalchemy import create_engine\n",
    "rasters = Path(r'../rasters').glob('*.tif')"
   ]
  },
  {
   "cell_type": "code",
   "execution_count": 2,
   "metadata": {
    "collapsed": false
   },
   "outputs": [
    {
     "name": "stdout",
     "output_type": "stream",
     "text": [
      "..\\rasters\\GDEM-10km-BW.tif 9348834 bytes\n",
      "..\\rasters\\m5_32dn1.tif 5244128 bytes\n",
      "..\\rasters\\m_37fz1.tif 513834528 bytes\n",
      "..\\rasters\\r_37fz1.tif 513834528 bytes\n"
     ]
    }
   ],
   "source": [
    "from subprocess import Popen, PIPE\n",
    "raster2pgsql = r'C:\\Program Files\\PostgreSQL\\9.6\\bin\\raster2pgsql.exe'\n",
    "psql = r'C:\\Program Files\\PostgreSQL\\9.6\\bin\\psql.exe'\n",
    "\n",
    "\n",
    "for i, file in enumerate(rasters):\n",
    "    print(str(file), file.stat().st_size,'bytes')\n",
    "    \n",
    "    tablename = 'r{:03d}'.format(i)\n",
    "    args = [\n",
    "        '-d','-I','-C','-M',\n",
    "        '-l','2,4,8,16,32,64',\n",
    "        '-t','100x100',\n",
    "        str(file),\n",
    "       'rasters.'+tablename,\n",
    "    ]\n",
    "       \n",
    "    raster2pgsql_process = Popen([raster2pgsql]+args, stdout=PIPE)\n",
    "\n",
    "    args = [\n",
    "        '-d','tiles',\n",
    "        '--username','postgres'\n",
    "    ]\n",
    "    psql_process = Popen([psql]+args, stdin=raster2pgsql_process.stdout, stdout=PIPE)\n",
    "    raster2pgsql_process.stdout.close() # enable write error in dd if ssh dies\n",
    "    out, err = psql_process.communicate()"
   ]
  }
 ],
 "metadata": {
  "anaconda-cloud": {},
  "kernelspec": {
   "display_name": "Python [default]",
   "language": "python",
   "name": "python3"
  },
  "language_info": {
   "codemirror_mode": {
    "name": "ipython",
    "version": 3
   },
   "file_extension": ".py",
   "mimetype": "text/x-python",
   "name": "python",
   "nbconvert_exporter": "python",
   "pygments_lexer": "ipython3",
   "version": "3.5.2"
  }
 },
 "nbformat": 4,
 "nbformat_minor": 1
}
